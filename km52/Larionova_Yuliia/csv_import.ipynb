{
 "cells": [
  {
   "cell_type": "markdown",
   "metadata": {},
   "source": [
    "# Importing from file"
   ]
  },
  {
   "cell_type": "code",
   "execution_count": 2,
   "metadata": {},
   "outputs": [],
   "source": [
    "import csv\n",
    "import cx_Oracle"
   ]
  },
  {
   "cell_type": "code",
   "execution_count": 3,
   "metadata": {},
   "outputs": [],
   "source": [
    "user_name = 'larionova'\n",
    "password = 'pass'\n",
    "server = 'orcl'\n",
    "\n",
    "connection = cx_Oracle.connect(user_name, password, server)"
   ]
  },
  {
   "cell_type": "code",
   "execution_count": 7,
   "metadata": {},
   "outputs": [
    {
     "ename": "FileNotFoundError",
     "evalue": "[Errno 2] No such file or directory: 'building  Ave Victory, 37.csv'",
     "output_type": "error",
     "traceback": [
      "\u001b[1;31m---------------------------------------------------------------------------\u001b[0m",
      "\u001b[1;31mFileNotFoundError\u001b[0m                         Traceback (most recent call last)",
      "\u001b[1;32m<ipython-input-7-cbd26317c623>\u001b[0m in \u001b[0;36m<module>\u001b[1;34m()\u001b[0m\n\u001b[0;32m      1\u001b[0m \u001b[0mfilename\u001b[0m \u001b[1;33m=\u001b[0m \u001b[1;34m\"building  Ave Victory, 37.csv\"\u001b[0m\u001b[1;33m\u001b[0m\u001b[0m\n\u001b[0;32m      2\u001b[0m \u001b[1;33m\u001b[0m\u001b[0m\n\u001b[1;32m----> 3\u001b[1;33m \u001b[1;32mwith\u001b[0m \u001b[0mopen\u001b[0m\u001b[1;33m(\u001b[0m\u001b[0mfilename\u001b[0m\u001b[1;33m,\u001b[0m \u001b[0mnewline\u001b[0m\u001b[1;33m=\u001b[0m\u001b[1;34m''\u001b[0m\u001b[1;33m)\u001b[0m \u001b[1;32mas\u001b[0m \u001b[0mfile\u001b[0m\u001b[1;33m:\u001b[0m\u001b[1;33m\u001b[0m\u001b[0m\n\u001b[0m\u001b[0;32m      4\u001b[0m     \u001b[0mreader\u001b[0m \u001b[1;33m=\u001b[0m \u001b[0mcsv\u001b[0m\u001b[1;33m.\u001b[0m\u001b[0mreader\u001b[0m\u001b[1;33m(\u001b[0m\u001b[0mfile\u001b[0m\u001b[1;33m)\u001b[0m\u001b[1;33m\u001b[0m\u001b[0m\n\u001b[0;32m      5\u001b[0m \u001b[1;33m\u001b[0m\u001b[0m\n",
      "\u001b[1;31mFileNotFoundError\u001b[0m: [Errno 2] No such file or directory: 'building  Ave Victory, 37.csv'"
     ]
    }
   ],
   "source": [
    "filename = \"building  Ave Victory, 37.csv\"\n",
    "\n",
    "with open(filename, newline='') as file:\n",
    "    reader = csv.reader(file)\n",
    "    \n",
    "    building_adress = next(reader)[1]\n",
    "    number_of_floors = next(reader)[1]\n",
    "    \n",
    "    insert_query = \"insert into buildings(building_adress, number_of_floors) values (:building_adress, :number_of_floors)\"\n",
    "    cursor_customer = connection.cursor()\n",
    "    cursor_customer.execute(insert_query, building_adress=building_adress, number_of_floors=number_of_floors)\n",
    "    cursor_customer.close()\n",
    "    \n",
    "    connection.commit()\n",
    "    next(reader, None)\n",
    "    next(reader, None)\n",
    "    \n",
    "    insert_query = \"\"\"\n",
    "        INSERT INTO classrooms (classroom_number, building_adress) \n",
    "            VALUES (:classroom_number, :building_adress)\n",
    "        \"\"\"\n",
    "    \n",
    "    rows = []\n",
    "    for row in reader:\n",
    "        building_adress = tuple(row)\n",
    "        rows.append(building_adress[:10])\n",
    "        \n",
    "    cursor_classrooms = connection.cursor()\n",
    "    cursor_classrooms.prepare(insert_query)\n",
    "    cursor_classrooms.executemany(None, rows)\n",
    "    \n",
    "    cursor_classrooms.close()\n",
    "    connection.commit()"
   ]
  },
  {
   "cell_type": "code",
   "execution_count": null,
   "metadata": {},
   "outputs": [],
   "source": []
  }
 ],
 "metadata": {
  "kernelspec": {
   "display_name": "Python 3",
   "language": "python",
   "name": "python3"
  },
  "language_info": {
   "codemirror_mode": {
    "name": "ipython",
    "version": 3
   },
   "file_extension": ".py",
   "mimetype": "text/x-python",
   "name": "python",
   "nbconvert_exporter": "python",
   "pygments_lexer": "ipython3",
   "version": "3.6.4"
  }
 },
 "nbformat": 4,
 "nbformat_minor": 2
}
